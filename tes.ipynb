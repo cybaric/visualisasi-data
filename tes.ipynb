{
 "cells": [
  {
   "cell_type": "code",
   "execution_count": 1,
   "id": "7ea87863",
   "metadata": {},
   "outputs": [],
   "source": [
    "import pandas as pd"
   ]
  },
  {
   "cell_type": "code",
   "execution_count": 2,
   "id": "c0741464",
   "metadata": {},
   "outputs": [],
   "source": [
    "df = pd.read_csv(\"data/sumber trafik.csv\")"
   ]
  },
  {
   "cell_type": "code",
   "execution_count": 3,
   "id": "e068a475",
   "metadata": {},
   "outputs": [
    {
     "data": {
      "text/html": [
       "<div>\n",
       "<style scoped>\n",
       "    .dataframe tbody tr th:only-of-type {\n",
       "        vertical-align: middle;\n",
       "    }\n",
       "\n",
       "    .dataframe tbody tr th {\n",
       "        vertical-align: top;\n",
       "    }\n",
       "\n",
       "    .dataframe thead th {\n",
       "        text-align: right;\n",
       "    }\n",
       "</style>\n",
       "<table border=\"1\" class=\"dataframe\">\n",
       "  <thead>\n",
       "    <tr style=\"text-align: right;\">\n",
       "      <th></th>\n",
       "      <th>Sumber traffic</th>\n",
       "      <th>Pengunjung listingan toko</th>\n",
       "      <th>Akuisisi listingan toko</th>\n",
       "      <th>Rasio konversi listingan toko</th>\n",
       "    </tr>\n",
       "  </thead>\n",
       "  <tbody>\n",
       "    <tr>\n",
       "      <th>0</th>\n",
       "      <td>Semua sumber traffic</td>\n",
       "      <td>13696</td>\n",
       "      <td>1195</td>\n",
       "      <td>8,73</td>\n",
       "    </tr>\n",
       "    <tr>\n",
       "      <th>1</th>\n",
       "      <td>Penelusuran Google Play</td>\n",
       "      <td>13455</td>\n",
       "      <td>1177</td>\n",
       "      <td>8,75</td>\n",
       "    </tr>\n",
       "    <tr>\n",
       "      <th>2</th>\n",
       "      <td>Penjelajahan Google Play</td>\n",
       "      <td>171</td>\n",
       "      <td>5</td>\n",
       "      <td>2,92</td>\n",
       "    </tr>\n",
       "    <tr>\n",
       "      <th>3</th>\n",
       "      <td>Referral pihak ketiga</td>\n",
       "      <td>70</td>\n",
       "      <td>13</td>\n",
       "      <td>18,57</td>\n",
       "    </tr>\n",
       "  </tbody>\n",
       "</table>\n",
       "</div>"
      ],
      "text/plain": [
       "             Sumber traffic  Pengunjung listingan toko  \\\n",
       "0      Semua sumber traffic                      13696   \n",
       "1   Penelusuran Google Play                      13455   \n",
       "2  Penjelajahan Google Play                        171   \n",
       "3     Referral pihak ketiga                         70   \n",
       "\n",
       "   Akuisisi listingan toko Rasio konversi listingan toko  \n",
       "0                     1195                          8,73  \n",
       "1                     1177                          8,75  \n",
       "2                        5                          2,92  \n",
       "3                       13                         18,57  "
      ]
     },
     "execution_count": 3,
     "metadata": {},
     "output_type": "execute_result"
    }
   ],
   "source": [
    "df.head()"
   ]
  },
  {
   "cell_type": "code",
   "execution_count": 8,
   "id": "6a93342e",
   "metadata": {},
   "outputs": [],
   "source": [
    "df1= df.iloc[1:4]"
   ]
  },
  {
   "cell_type": "code",
   "execution_count": 9,
   "id": "efd034ab",
   "metadata": {},
   "outputs": [
    {
     "data": {
      "text/html": [
       "<div>\n",
       "<style scoped>\n",
       "    .dataframe tbody tr th:only-of-type {\n",
       "        vertical-align: middle;\n",
       "    }\n",
       "\n",
       "    .dataframe tbody tr th {\n",
       "        vertical-align: top;\n",
       "    }\n",
       "\n",
       "    .dataframe thead th {\n",
       "        text-align: right;\n",
       "    }\n",
       "</style>\n",
       "<table border=\"1\" class=\"dataframe\">\n",
       "  <thead>\n",
       "    <tr style=\"text-align: right;\">\n",
       "      <th></th>\n",
       "      <th>Sumber traffic</th>\n",
       "      <th>Pengunjung listingan toko</th>\n",
       "      <th>Akuisisi listingan toko</th>\n",
       "      <th>Rasio konversi listingan toko</th>\n",
       "    </tr>\n",
       "  </thead>\n",
       "  <tbody>\n",
       "    <tr>\n",
       "      <th>1</th>\n",
       "      <td>Penelusuran Google Play</td>\n",
       "      <td>13455</td>\n",
       "      <td>1177</td>\n",
       "      <td>8,75</td>\n",
       "    </tr>\n",
       "    <tr>\n",
       "      <th>2</th>\n",
       "      <td>Penjelajahan Google Play</td>\n",
       "      <td>171</td>\n",
       "      <td>5</td>\n",
       "      <td>2,92</td>\n",
       "    </tr>\n",
       "    <tr>\n",
       "      <th>3</th>\n",
       "      <td>Referral pihak ketiga</td>\n",
       "      <td>70</td>\n",
       "      <td>13</td>\n",
       "      <td>18,57</td>\n",
       "    </tr>\n",
       "  </tbody>\n",
       "</table>\n",
       "</div>"
      ],
      "text/plain": [
       "             Sumber traffic  Pengunjung listingan toko  \\\n",
       "1   Penelusuran Google Play                      13455   \n",
       "2  Penjelajahan Google Play                        171   \n",
       "3     Referral pihak ketiga                         70   \n",
       "\n",
       "   Akuisisi listingan toko Rasio konversi listingan toko  \n",
       "1                     1177                          8,75  \n",
       "2                        5                          2,92  \n",
       "3                       13                         18,57  "
      ]
     },
     "execution_count": 9,
     "metadata": {},
     "output_type": "execute_result"
    }
   ],
   "source": [
    "df1.head()"
   ]
  },
  {
   "cell_type": "code",
   "execution_count": 10,
   "id": "c9826a85",
   "metadata": {},
   "outputs": [
    {
     "data": {
      "text/html": [
       "<div>\n",
       "<style scoped>\n",
       "    .dataframe tbody tr th:only-of-type {\n",
       "        vertical-align: middle;\n",
       "    }\n",
       "\n",
       "    .dataframe tbody tr th {\n",
       "        vertical-align: top;\n",
       "    }\n",
       "\n",
       "    .dataframe thead th {\n",
       "        text-align: right;\n",
       "    }\n",
       "</style>\n",
       "<table border=\"1\" class=\"dataframe\">\n",
       "  <thead>\n",
       "    <tr style=\"text-align: right;\">\n",
       "      <th></th>\n",
       "      <th>Pengunjung listingan toko</th>\n",
       "      <th>Akuisisi listingan toko</th>\n",
       "    </tr>\n",
       "  </thead>\n",
       "  <tbody>\n",
       "    <tr>\n",
       "      <th>count</th>\n",
       "      <td>3.000000</td>\n",
       "      <td>3.000000</td>\n",
       "    </tr>\n",
       "    <tr>\n",
       "      <th>mean</th>\n",
       "      <td>4565.333333</td>\n",
       "      <td>398.333333</td>\n",
       "    </tr>\n",
       "    <tr>\n",
       "      <th>std</th>\n",
       "      <td>7698.842792</td>\n",
       "      <td>674.356978</td>\n",
       "    </tr>\n",
       "    <tr>\n",
       "      <th>min</th>\n",
       "      <td>70.000000</td>\n",
       "      <td>5.000000</td>\n",
       "    </tr>\n",
       "    <tr>\n",
       "      <th>25%</th>\n",
       "      <td>120.500000</td>\n",
       "      <td>9.000000</td>\n",
       "    </tr>\n",
       "    <tr>\n",
       "      <th>50%</th>\n",
       "      <td>171.000000</td>\n",
       "      <td>13.000000</td>\n",
       "    </tr>\n",
       "    <tr>\n",
       "      <th>75%</th>\n",
       "      <td>6813.000000</td>\n",
       "      <td>595.000000</td>\n",
       "    </tr>\n",
       "    <tr>\n",
       "      <th>max</th>\n",
       "      <td>13455.000000</td>\n",
       "      <td>1177.000000</td>\n",
       "    </tr>\n",
       "  </tbody>\n",
       "</table>\n",
       "</div>"
      ],
      "text/plain": [
       "       Pengunjung listingan toko  Akuisisi listingan toko\n",
       "count                   3.000000                 3.000000\n",
       "mean                 4565.333333               398.333333\n",
       "std                  7698.842792               674.356978\n",
       "min                    70.000000                 5.000000\n",
       "25%                   120.500000                 9.000000\n",
       "50%                   171.000000                13.000000\n",
       "75%                  6813.000000               595.000000\n",
       "max                 13455.000000              1177.000000"
      ]
     },
     "execution_count": 10,
     "metadata": {},
     "output_type": "execute_result"
    }
   ],
   "source": [
    "df1.describe()"
   ]
  },
  {
   "cell_type": "code",
   "execution_count": null,
   "id": "531c5b6f",
   "metadata": {},
   "outputs": [],
   "source": []
  }
 ],
 "metadata": {
  "kernelspec": {
   "display_name": "Python 3",
   "language": "python",
   "name": "python3"
  },
  "language_info": {
   "codemirror_mode": {
    "name": "ipython",
    "version": 3
   },
   "file_extension": ".py",
   "mimetype": "text/x-python",
   "name": "python",
   "nbconvert_exporter": "python",
   "pygments_lexer": "ipython3",
   "version": "3.8.5"
  }
 },
 "nbformat": 4,
 "nbformat_minor": 5
}
